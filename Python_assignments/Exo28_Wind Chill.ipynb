{
 "cells": [
  {
   "cell_type": "code",
   "execution_count": 6,
   "metadata": {},
   "outputs": [
    {
     "name": "stdout",
     "output_type": "stream",
     "text": [
      "Enter the air temperature : 10\n",
      "Enter the wind speed : 5\n",
      "The wind chill is :  9.755115709161835\n"
     ]
    }
   ],
   "source": [
    "#Write a program that begins by reading the air temperature and wind speed from the user.\n",
    "#Once these values have been read, your program should display the wind chill index rounded to the closest integer.\n",
    "\n",
    "air_temperature = float(input(\"Enter the air temperature : \"))\n",
    "wind_speed = float(input(\"Enter the wind speed : \"))\n",
    "wind_chill = 13.12 + (0.6215*air_temperature)-(11.37*(wind_speed**0.16)) + (0.3965*air_temperature*(wind_speed**0.16))\n",
    "\n",
    "if(air_temperature <= 10 and wind_speed > 4.8 ):\n",
    "    print(\"The wind chill is : \", wind_chill)\n",
    "else:\n",
    "    print(\"Please enter a temperature less than 10 degrees and a speed more than 4.8\")"
   ]
  },
  {
   "cell_type": "code",
   "execution_count": 17,
   "metadata": {},
   "outputs": [
    {
     "data": {
      "text/plain": [
       "2.0"
      ]
     },
     "execution_count": 17,
     "metadata": {},
     "output_type": "execute_result"
    }
   ],
   "source": [
    "from math import sqrt\n",
    "sqrt(4)"
   ]
  },
  {
   "cell_type": "code",
   "execution_count": null,
   "metadata": {},
   "outputs": [],
   "source": []
  }
 ],
 "metadata": {
  "kernelspec": {
   "display_name": "Python 3",
   "language": "python",
   "name": "python3"
  },
  "language_info": {
   "codemirror_mode": {
    "name": "ipython",
    "version": 3
   },
   "file_extension": ".py",
   "mimetype": "text/x-python",
   "name": "python",
   "nbconvert_exporter": "python",
   "pygments_lexer": "ipython3",
   "version": "3.7.6"
  }
 },
 "nbformat": 4,
 "nbformat_minor": 4
}
