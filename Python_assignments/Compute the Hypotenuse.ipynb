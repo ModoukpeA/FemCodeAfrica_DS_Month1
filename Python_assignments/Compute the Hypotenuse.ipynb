{
 "cells": [
  {
   "cell_type": "code",
   "execution_count": 3,
   "metadata": {},
   "outputs": [
    {
     "name": "stdout",
     "output_type": "stream",
     "text": [
      "Enter the first side length2\n",
      "Enter the second side length2\n",
      "The hypothenuse is 2.8284271247461903\n"
     ]
    }
   ],
   "source": [
    "#Compute the Hypotenuse\n",
    "\n",
    "from math import sqrt\n",
    "side1= float(input(\"Enter the first side length\"))\n",
    "side2= float(input(\"Enter the second side length\"))\n",
    "\n",
    "hypothenuse= ((side1**2) + (side2**2))**(1/2)\n",
    "print(f\"The hypothenuse is {hypothenuse}\")"
   ]
  },
  {
   "cell_type": "code",
   "execution_count": null,
   "metadata": {},
   "outputs": [],
   "source": []
  }
 ],
 "metadata": {
  "kernelspec": {
   "display_name": "Python 3",
   "language": "python",
   "name": "python3"
  },
  "language_info": {
   "codemirror_mode": {
    "name": "ipython",
    "version": 3
   },
   "file_extension": ".py",
   "mimetype": "text/x-python",
   "name": "python",
   "nbconvert_exporter": "python",
   "pygments_lexer": "ipython3",
   "version": "3.7.6"
  }
 },
 "nbformat": 4,
 "nbformat_minor": 4
}
