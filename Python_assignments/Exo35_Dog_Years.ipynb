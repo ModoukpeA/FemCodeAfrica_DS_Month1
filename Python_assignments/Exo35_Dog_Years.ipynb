{
 "cells": [
  {
   "cell_type": "code",
   "execution_count": null,
   "metadata": {},
   "outputs": [],
   "source": [
    "# It is commonly said that one human year is equivalent to 7 dog years. However this simple conversion\n",
    "# fails to recognize that dogs reach adulthood in approximately two years. \n",
    "# As a result, some people believe that it is better to count each of the first two human years\n",
    "# as 10.5 dog years, and then count each additional human year as 4 dog  years.\n",
    "# A program that implements the conversion from human years to dog years described in the previous paragraph.\n",
    "human_years=float(input(\"Enter a number as human age :\"))\n",
    "standard_dog_years=10.5\n",
    "human_years_less_2=(human_years*standard_dog_years)/2\n",
    "human_years_more_2=standard_dog_years+(4*(human_years-2))\n",
    "\n",
    "if (human_years<0):\n",
    "    print(\"You should type a valid number of years\")\n",
    "elif (human_years==2):\n",
    "    print(\"The equivalent in dog years is:\",standard_dog_years)\n",
    "elif (human_years<2):\n",
    "        print(\"The equivalent in dog years is:\",human_years_less_2)\n",
    "else:\n",
    "    print(\"The equivalent in dog years is:\",human_years_more_2)"
   ]
  },
  {
   "cell_type": "code",
   "execution_count": null,
   "metadata": {},
   "outputs": [],
   "source": []
  }
 ],
 "metadata": {
  "kernelspec": {
   "display_name": "Python 3",
   "language": "python",
   "name": "python3"
  },
  "language_info": {
   "codemirror_mode": {
    "name": "ipython",
    "version": 3
   },
   "file_extension": ".py",
   "mimetype": "text/x-python",
   "name": "python",
   "nbconvert_exporter": "python",
   "pygments_lexer": "ipython3",
   "version": "3.7.6"
  }
 },
 "nbformat": 4,
 "nbformat_minor": 4
}
