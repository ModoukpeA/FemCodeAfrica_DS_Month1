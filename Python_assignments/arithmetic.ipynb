{
 "cells": [
  {
   "cell_type": "code",
   "execution_count": 1,
   "metadata": {},
   "outputs": [
    {
     "name": "stdout",
     "output_type": "stream",
     "text": [
      "Enter the first number:2\n",
      "Enter the second number:5\n",
      "The sum of a and b is 7.0\n",
      "The difference between a and b is 3.0\n",
      "The product of a and b is 10.0\n"
     ]
    }
   ],
   "source": [
    "# ARITHMETIC\n",
    "a=float(input(\"Enter the first number:\"))\n",
    "b=float(input(\"Enter the second number:\"))\n",
    "add=a+b\n",
    "sub=b-a\n",
    "mul=a*b\n",
    "print(\"The sum of a and b is\", add)\n",
    "print(\"The difference between a and b is\", sub)\n",
    "print(\"The product of a and b is\", mul)"
   ]
  },
  {
   "cell_type": "code",
   "execution_count": null,
   "metadata": {},
   "outputs": [],
   "source": []
  }
 ],
 "metadata": {
  "kernelspec": {
   "display_name": "Python 3",
   "language": "python",
   "name": "python3"
  },
  "language_info": {
   "codemirror_mode": {
    "name": "ipython",
    "version": 3
   },
   "file_extension": ".py",
   "mimetype": "text/x-python",
   "name": "python",
   "nbconvert_exporter": "python",
   "pygments_lexer": "ipython3",
   "version": "3.7.6"
  }
 },
 "nbformat": 4,
 "nbformat_minor": 4
}
