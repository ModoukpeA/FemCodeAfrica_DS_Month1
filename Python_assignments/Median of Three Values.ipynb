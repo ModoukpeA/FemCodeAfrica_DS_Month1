{
 "cells": [
  {
   "cell_type": "code",
   "execution_count": 2,
   "metadata": {},
   "outputs": [
    {
     "name": "stdout",
     "output_type": "stream",
     "text": [
      "Enter the first value4\n",
      "Enter the second value2\n",
      "Enter the third value3\n",
      "The three values must be in an ascending order\n"
     ]
    }
   ],
   "source": [
    "#Median of Three Values\n",
    "a=float(input(\"Enter the first value\"))\n",
    "b=float(input(\"Enter the second value\"))\n",
    "c=float(input(\"Enter the third value\"))\n",
    "median= ((a+b+c)/3)\n",
    "if(a<b and b<c):\n",
    "    print(\"The median is \", median)\n",
    "else:\n",
    "    print(\"The three values must be in an ascending order\")"
   ]
  },
  {
   "cell_type": "code",
   "execution_count": null,
   "metadata": {},
   "outputs": [],
   "source": []
  }
 ],
 "metadata": {
  "kernelspec": {
   "display_name": "Python 3",
   "language": "python",
   "name": "python3"
  },
  "language_info": {
   "codemirror_mode": {
    "name": "ipython",
    "version": 3
   },
   "file_extension": ".py",
   "mimetype": "text/x-python",
   "name": "python",
   "nbconvert_exporter": "python",
   "pygments_lexer": "ipython3",
   "version": "3.7.6"
  }
 },
 "nbformat": 4,
 "nbformat_minor": 4
}
