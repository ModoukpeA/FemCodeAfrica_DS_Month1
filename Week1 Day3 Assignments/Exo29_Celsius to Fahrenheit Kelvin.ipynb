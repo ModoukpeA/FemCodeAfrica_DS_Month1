{
 "cells": [
  {
   "cell_type": "code",
   "execution_count": 1,
   "metadata": {},
   "outputs": [
    {
     "name": "stdout",
     "output_type": "stream",
     "text": [
      "Enter the temperature in degree : 30\n",
      "The equivalent in Fahrenheit is :  86.0\n",
      "The equivalent in Kelvin is :  303.15\n"
     ]
    }
   ],
   "source": [
    "#Write a program that begins by reading a temperature from the user in degrees Celsius.\n",
    "temperature_in_degree = float(input(\"Enter the temperature in degree : \"))\n",
    "temperature_in_fahrenheit = (temperature_in_degree*1.8) + 32\n",
    "temperature_in_kelvin = temperature_in_degree + 273.15\n",
    "print(\"The equivalent in Fahrenheit is : \",temperature_in_fahrenheit)\n",
    "print(\"The equivalent in Kelvin is : \", temperature_in_kelvin)"
   ]
  },
  {
   "cell_type": "code",
   "execution_count": null,
   "metadata": {},
   "outputs": [],
   "source": []
  }
 ],
 "metadata": {
  "kernelspec": {
   "display_name": "Python 3",
   "language": "python",
   "name": "python3"
  },
  "language_info": {
   "codemirror_mode": {
    "name": "ipython",
    "version": 3
   },
   "file_extension": ".py",
   "mimetype": "text/x-python",
   "name": "python",
   "nbconvert_exporter": "python",
   "pygments_lexer": "ipython3",
   "version": "3.7.6"
  }
 },
 "nbformat": 4,
 "nbformat_minor": 4
}
