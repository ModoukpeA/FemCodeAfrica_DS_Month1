{
 "cells": [
  {
   "cell_type": "code",
   "execution_count": 3,
   "metadata": {},
   "outputs": [
    {
     "name": "stdout",
     "output_type": "stream",
     "text": [
      "Type the amount of one article : 500\n",
      "Type the number of articles you buy : 5\n",
      "2250.0\n"
     ]
    }
   ],
   "source": [
    "#Conditionals\n",
    "\n",
    "#Ask the user to type the amount of one article\n",
    "article_amount = float(input(\"Type the amount of one article : \"))\n",
    "\n",
    "#Ask a user to write a given number of articles\n",
    "number_of_articles = int(input(\"Type the number of articles you buy : \"))\n",
    "\n",
    "#Calculating the total amount \n",
    "total_amount = article_amount * number_of_articles\n",
    "\n",
    "#Applying a discount of 10% if the articles are more than 4\n",
    "if(number_of_articles > 4):\n",
    "    total_amount = total_amount * 0.9\n",
    "print(total_amount)\n"
   ]
  },
  {
   "cell_type": "code",
   "execution_count": null,
   "metadata": {},
   "outputs": [],
   "source": []
  },
  {
   "cell_type": "code",
   "execution_count": null,
   "metadata": {},
   "outputs": [],
   "source": []
  }
 ],
 "metadata": {
  "kernelspec": {
   "display_name": "Python 3",
   "language": "python",
   "name": "python3"
  },
  "language_info": {
   "codemirror_mode": {
    "name": "ipython",
    "version": 3
   },
   "file_extension": ".py",
   "mimetype": "text/x-python",
   "name": "python",
   "nbconvert_exporter": "python",
   "pygments_lexer": "ipython3",
   "version": "3.7.6"
  }
 },
 "nbformat": 4,
 "nbformat_minor": 4
}
